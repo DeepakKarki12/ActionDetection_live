{
  "nbformat": 4,
  "nbformat_minor": 0,
  "metadata": {
    "colab": {
      "provenance": [],
      "gpuType": "V28"
    },
    "kernelspec": {
      "name": "python3",
      "display_name": "Python 3"
    },
    "language_info": {
      "name": "python"
    },
    "accelerator": "TPU"
  },
  "cells": [
    {
      "cell_type": "code",
      "source": [
        "!unzip yolov5.zip"
      ],
      "metadata": {
        "collapsed": true,
        "id": "MruN__2TeLkC"
      },
      "execution_count": null,
      "outputs": []
    },
    {
      "cell_type": "code",
      "source": [
        "!pip install mediapipe ultralytics pyngrok psycopg2-binary"
      ],
      "metadata": {
        "collapsed": true,
        "id": "l7i2yQReeLWE"
      },
      "execution_count": null,
      "outputs": []
    },
    {
      "cell_type": "code",
      "source": [
        "!pip install --ignore-installed flask flask-socketio flask_sqlalchemy"
      ],
      "metadata": {
        "collapsed": true,
        "id": "VRSuqi5eeJ1E"
      },
      "execution_count": null,
      "outputs": []
    },
    {
      "cell_type": "code",
      "execution_count": null,
      "metadata": {
        "id": "9DPgOgIZd-cU"
      },
      "outputs": [],
      "source": [
        "%cd yolov5"
      ]
    },
    {
      "cell_type": "code",
      "source": [
        "portno = 5000"
      ],
      "metadata": {
        "id": "0q0HaY1JeG8I"
      },
      "execution_count": null,
      "outputs": []
    },
    {
      "cell_type": "code",
      "source": [
        "from flask import Flask, render_template, request\n",
        "\n",
        "from user import user_bp\n",
        "from admin import admin_bp  # Import admin blueprint\n",
        "from datamodels import db\n",
        "import os\n",
        "import logging\n",
        "from pyngrok import ngrok\n",
        "import base64\n",
        "logging.basicConfig(level=logging.DEBUG)\n",
        "ngrok.set_auth_token('2j6yZx3KvVeSEOhGHG0bEjNdWB8_2ri6c36iDuZZxMJxxCD47')\n",
        "\n",
        "\n",
        "app = Flask(__name__,template_folder='templates')\n",
        "\n",
        "app.config['SQLALCHEMY_DATABASE_URI'] = 'sqlite:////site.db'\n",
        "app.config['SECRET_KEY'] = 'S1t2a3r4'\n",
        "\n",
        "# Initialize the database\n",
        "db.init_app(app)\n",
        "\n",
        "def add_cache_control(response):\n",
        "    if request.endpoint in ['admin_bp.admin_dashboard', 'admin_bp.logout']:\n",
        "        response.headers['Cache-Control'] = 'no-store'\n",
        "        response.headers['Pragma'] = 'no-cache'\n",
        "        response.headers['Expires'] = '0'\n",
        "    return response\n",
        "# Register blueprints\n",
        "\n",
        "app.register_blueprint(user_bp)\n",
        "app.register_blueprint(admin_bp)\n",
        "\n",
        "\n",
        "@app.route('/')\n",
        "def index():\n",
        "    # return \"hello world\"\n",
        "    return render_template('index.html')\n",
        "\n",
        "if __name__ == '__main__':\n",
        "    with app.app_context():\n",
        "        db.create_all()\n",
        "    print(\"3\")\n",
        "    public_url = ngrok.connect(5000)\n",
        "    print(\"Public URL:\", public_url)\n",
        "    app.run(port=portno)\n",
        "\n",
        "\n"
      ],
      "metadata": {
        "id": "cffFcXc4eF5i"
      },
      "execution_count": null,
      "outputs": []
    }
  ]
}